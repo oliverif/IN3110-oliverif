{
 "cells": [
  {
   "cell_type": "code",
   "execution_count": 4,
   "metadata": {},
   "outputs": [],
   "source": [
    "from array_class import *"
   ]
  },
  {
   "cell_type": "code",
   "execution_count": 5,
   "metadata": {},
   "outputs": [
    {
     "name": "stdout",
     "output_type": "stream",
     "text": [
      "[2, 3, 1, 0]\n"
     ]
    }
   ],
   "source": [
    "shape = (4,)\n",
    "# define my_array\n",
    "my_array = Array(shape, 2, 3, 1, 0)\n",
    "# __getitem__ should be implemented correctly.\n",
    "assert my_array[2] == 1\n",
    "# Printing the array prints the array values nicely.\n",
    "# For example: [2, 3, 1, 0]\n",
    "print(my_array)"
   ]
  },
  {
   "cell_type": "code",
   "execution_count": 7,
   "metadata": {},
   "outputs": [
    {
     "name": "stdout",
     "output_type": "stream",
     "text": [
      "[11, 12, 13, 14, 15, 16]\n"
     ]
    }
   ],
   "source": [
    "array1 = Array((6,), 1, 2, 3, 4, 5, 6)\n",
    "i = 10\n",
    "i.__add__(array1) # Returns NotImplemented\n",
    "\n",
    "print(array1.__radd__(i)) # Returns Array((6,), 11, 12, 13, 14, 15, 16)"
   ]
  },
  {
   "cell_type": "code",
   "execution_count": 8,
   "metadata": {},
   "outputs": [],
   "source": [
    "my_array = Array((3, 2), 8, 3, 4, 1, 6, 1)\n",
    "# accessing values should work as follows\n",
    "assert my_array[1][0] == 4"
   ]
  }
 ],
 "metadata": {
  "kernelspec": {
   "display_name": "Python 3.10.5 64-bit ('dev')",
   "language": "python",
   "name": "python3"
  },
  "language_info": {
   "codemirror_mode": {
    "name": "ipython",
    "version": 3
   },
   "file_extension": ".py",
   "mimetype": "text/x-python",
   "name": "python",
   "nbconvert_exporter": "python",
   "pygments_lexer": "ipython3",
   "version": "3.10.5"
  },
  "orig_nbformat": 4,
  "vscode": {
   "interpreter": {
    "hash": "8a7c1d83d017a4d1ffaef83a08d34be2fadd9582e7b618dd4e11b33a020e4646"
   }
  }
 },
 "nbformat": 4,
 "nbformat_minor": 2
}
