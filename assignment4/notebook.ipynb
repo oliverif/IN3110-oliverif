{
 "cells": [
  {
   "cell_type": "code",
   "execution_count": 1,
   "metadata": {},
   "outputs": [
    {
     "name": "stdout",
     "output_type": "stream",
     "text": [
      "Finding players in https://en.wikipedia.org/wiki/2021%E2%80%9322_Golden_State_Warriors_season\n",
      "yo\n",
      "\n",
      "17\n"
     ]
    },
    {
     "data": {
      "text/plain": [
       "[{'name': 'Nemanja Bjelica',\n",
       "  'url': 'https://en.wikipedia.org/wiki/Nemanja_Bjelica'},\n",
       " {'name': 'Chris Chiozza',\n",
       "  'url': 'https://en.wikipedia.org/wiki/Chris_Chiozza'},\n",
       " {'name': 'Stephen Curry',\n",
       "  'url': 'https://en.wikipedia.org/wiki/Stephen_Curry'},\n",
       " {'name': 'Draymond Green',\n",
       "  'url': 'https://en.wikipedia.org/wiki/Draymond_Green'},\n",
       " {'name': 'Andre Iguodala',\n",
       "  'url': 'https://en.wikipedia.org/wiki/Andre_Iguodala'},\n",
       " {'name': 'Jonathan Kuminga',\n",
       "  'url': 'https://en.wikipedia.org/wiki/Jonathan_Kuminga'},\n",
       " {'name': 'Damion Lee', 'url': 'https://en.wikipedia.org/wiki/Damion_Lee'},\n",
       " {'name': 'Kevon Looney', 'url': 'https://en.wikipedia.org/wiki/Kevon_Looney'},\n",
       " {'name': 'Moses Moody', 'url': 'https://en.wikipedia.org/wiki/Moses_Moody'},\n",
       " {'name': 'Gary Payton II',\n",
       "  'url': 'https://en.wikipedia.org/wiki/Gary_Payton_II'},\n",
       " {'name': 'Jordan Poole', 'url': 'https://en.wikipedia.org/wiki/Jordan_Poole'},\n",
       " {'name': 'Otto Porter Jr.',\n",
       "  'url': 'https://en.wikipedia.org/wiki/Otto_Porter_Jr.'},\n",
       " {'name': 'Klay Thompson',\n",
       "  'url': 'https://en.wikipedia.org/wiki/Klay_Thompson'},\n",
       " {'name': 'Juan Toscano-Anderson',\n",
       "  'url': 'https://en.wikipedia.org/wiki/Juan_Toscano-Anderson'},\n",
       " {'name': 'Quinndary Weatherspoon',\n",
       "  'url': 'https://en.wikipedia.org/wiki/Quinndary_Weatherspoon'},\n",
       " {'name': 'Andrew Wiggins',\n",
       "  'url': 'https://en.wikipedia.org/wiki/Andrew_Wiggins'},\n",
       " {'name': 'James Wiseman',\n",
       "  'url': 'https://en.wikipedia.org/wiki/James_Wiseman'}]"
      ]
     },
     "execution_count": 1,
     "metadata": {},
     "output_type": "execute_result"
    }
   ],
   "source": [
    "from fetch_player_statistics import get_players\n",
    "get_players(\"https://en.wikipedia.org/wiki/2021%E2%80%9322_Golden_State_Warriors_season\")"
   ]
  },
  {
   "cell_type": "code",
   "execution_count": null,
   "metadata": {},
   "outputs": [],
   "source": []
  }
 ],
 "metadata": {
  "kernelspec": {
   "display_name": "Python 3.10.5 64-bit ('dev')",
   "language": "python",
   "name": "python3"
  },
  "language_info": {
   "codemirror_mode": {
    "name": "ipython",
    "version": 3
   },
   "file_extension": ".py",
   "mimetype": "text/x-python",
   "name": "python",
   "nbconvert_exporter": "python",
   "pygments_lexer": "ipython3",
   "version": "3.10.5"
  },
  "orig_nbformat": 4,
  "vscode": {
   "interpreter": {
    "hash": "8a7c1d83d017a4d1ffaef83a08d34be2fadd9582e7b618dd4e11b33a020e4646"
   }
  }
 },
 "nbformat": 4,
 "nbformat_minor": 2
}
