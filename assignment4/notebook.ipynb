{
 "cells": [
  {
   "cell_type": "code",
   "execution_count": 1,
   "metadata": {},
   "outputs": [],
   "source": [
    "from collect_dates import find_dates"
   ]
  },
  {
   "cell_type": "code",
   "execution_count": 2,
   "metadata": {},
   "outputs": [
    {
     "data": {
      "text/plain": [
       "[]"
      ]
     },
     "execution_count": 2,
     "metadata": {},
     "output_type": "execute_result"
    }
   ],
   "source": [
    "find_dates(\"YMD: 2015 March 31\")"
   ]
  },
  {
   "cell_type": "code",
   "execution_count": 4,
   "metadata": {},
   "outputs": [
    {
     "name": "stdout",
     "output_type": "stream",
     "text": [
      "('2', 'January', '2020')\n"
     ]
    }
   ],
   "source": [
    "import re\n",
    "jan = r\"\\b[jJ]an(?:uary)?\\b\"\n",
    "feb = r\"\\b[fF]eb(?:ruary)?\\b\"\n",
    "mar = r\"\\b[mM]ar(?:ch)?\\b\"\n",
    "apr = r\"\\b[aA]pr(?:il)?\\b\"\n",
    "may = r\"\\b[mM]ay\\b\"\n",
    "jun = r\"\\b[jJ]un(?:e)?\\b\"\n",
    "jul = r\"\\b[jJ]ul(?:y)?\\b\"\n",
    "aug = r\"\\b[aA]aug(?:ust)?\\b\"\n",
    "sep = r\"\\b[sS]ep(?:tember)?\\b\"\n",
    "oct = r\"\\b[oO]ct(?:ober)?\\b\"\n",
    "nov = r\"\\b[nN]ov(?:ember)?\\b\"\n",
    "dec = r\"\\b[dD]ec(?:ember)?\\b\"\n",
    "\n",
    "month = rf\"(?P<month>(?:{jan}|{feb}|{mar}|{apr}|{may}|{jun}|{jul}|{aug}|{sep}|{oct}|{nov}|{dec}))\"\n",
    "\n",
    "year = r\"(?P<year>(?:1\\d\\d\\d|20[0-2]\\d))\"\n",
    "\n",
    "day = r\"(?P<day>0[1-9]|[1-9]|[1-2]\\d|3[0-1])\"\n",
    "\n",
    "DMY = rf\"{day}\\s{month}\\s{year}\"\n",
    "YMD = rf\"{year}\\s{month}\\s{day}\"\n",
    "\n",
    "f = re.compile(YMD)\n",
    "\n",
    "for i in f.finditer(\"DMY: 2 January 2020\"):\n",
    "    print(i.groups())"
   ]
  },
  {
   "cell_type": "code",
   "execution_count": null,
   "metadata": {},
   "outputs": [],
   "source": []
  }
 ],
 "metadata": {
  "kernelspec": {
   "display_name": "Python 3.10.5 64-bit ('dev')",
   "language": "python",
   "name": "python3"
  },
  "language_info": {
   "codemirror_mode": {
    "name": "ipython",
    "version": 3
   },
   "file_extension": ".py",
   "mimetype": "text/x-python",
   "name": "python",
   "nbconvert_exporter": "python",
   "pygments_lexer": "ipython3",
   "version": "3.10.5"
  },
  "orig_nbformat": 4,
  "vscode": {
   "interpreter": {
    "hash": "8a7c1d83d017a4d1ffaef83a08d34be2fadd9582e7b618dd4e11b33a020e4646"
   }
  }
 },
 "nbformat": 4,
 "nbformat_minor": 2
}
