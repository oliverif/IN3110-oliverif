{
 "cells": [
  {
   "cell_type": "code",
   "execution_count": null,
   "metadata": {},
   "outputs": [],
   "source": [
    "import re\n",
    "\n",
    "with open(\"wiki.txt\", \"r\") as f:\n",
    "    base_url = \"https://en.wikipedia.org\"\n",
    "    base_protocol = \"https\"\n",
    "    urls = set()\n",
    "    img_pat = re.compile(r'<a href=\"([^\"^#]+)\"', flags=re.IGNORECASE)\n",
    "    all_urls= img_pat.findall(f.read())\n",
    "    for url in all_urls:\n",
    "        if url.startswith(\"//\"):\n",
    "            urls.add(base_protocol+url)\n",
    "        elif url.startswith(\"/\"):\n",
    "            urls.add(base_url+url)\n",
    "        else:\n",
    "            urls.add(url)\n",
    "\n",
    "    print(urls)\n",
    "    "
   ]
  },
  {
   "cell_type": "code",
   "execution_count": 40,
   "metadata": {},
   "outputs": [
    {
     "data": {
      "text/plain": [
       "'https:'"
      ]
     },
     "execution_count": 40,
     "metadata": {},
     "output_type": "execute_result"
    }
   ],
   "source": [
    "base_url = \"https://en.wikipedia.org\"\n",
    "protocol = base_url.split(\"/\")[0]\n",
    "protocol"
   ]
  },
  {
   "cell_type": "code",
   "execution_count": null,
   "metadata": {},
   "outputs": [],
   "source": [
    "from requesting_urls import get_html\n",
    "get_html(url=\"https://en.wikipedia.org/wiki/Nobel_Prize\", output=\"wiki.txt\")"
   ]
  },
  {
   "cell_type": "code",
   "execution_count": 4,
   "metadata": {},
   "outputs": [
    {
     "data": {
      "text/plain": [
       "{'https://en.wikipedia.org/wiki/other_path',\n",
       " 'https://en.wikipedia.org/wiki/relative/path'}"
      ]
     },
     "execution_count": 4,
     "metadata": {},
     "output_type": "execute_result"
    }
   ],
   "source": [
    "from filter_urls import find_urls, find_articles\n",
    "html = \"\"\"\n",
    "    <a href=\"#fragment-only\">anchor link</a>\n",
    "    <a id=\"some-id\" href=\"/wiki/relative/path#fragment\">relative link</a>\n",
    "    <a href=\"//other.host/same-protocol\">same-protocol link</a>\n",
    "    <a href=\"https://example.com\">absolute URL</a>\n",
    "    <a href=\"/wiki/other_path\">other relative path</a>\n",
    "    <a href=\"/wiki/path/File:img.jpg\">other relative path</a>\n",
    "    <a href=\"/w/index.php?cc\">other relative path</a>\n",
    "    \"\"\"\n",
    "\n",
    "#urls = find_urls(html, base_url=\"https://en.wikipedia.org\", output=\"out_test.txt\")\n",
    "find_articles(html)\n"
   ]
  },
  {
   "cell_type": "code",
   "execution_count": 75,
   "metadata": {},
   "outputs": [
    {
     "data": {
      "text/plain": [
       "['/relative/path', '//other.host/same-protocol', 'https://example.com']"
      ]
     },
     "execution_count": 75,
     "metadata": {},
     "output_type": "execute_result"
    }
   ],
   "source": [
    "a = r\"\"\"<a id=\"some-id\" href=\"/relative/path#fragment\">relative link</a>\"\"\"\n",
    "url_pat = re.compile(r'href=\"([^\"^#]+)', flags=re.IGNORECASE)\n",
    "url_pat.findall(html)"
   ]
  },
  {
   "cell_type": "code",
   "execution_count": null,
   "metadata": {},
   "outputs": [],
   "source": []
  }
 ],
 "metadata": {
  "kernelspec": {
   "display_name": "Python 3.10.5 64-bit ('dev')",
   "language": "python",
   "name": "python3"
  },
  "language_info": {
   "codemirror_mode": {
    "name": "ipython",
    "version": 3
   },
   "file_extension": ".py",
   "mimetype": "text/x-python",
   "name": "python",
   "nbconvert_exporter": "python",
   "pygments_lexer": "ipython3",
   "version": "3.10.5"
  },
  "orig_nbformat": 4,
  "vscode": {
   "interpreter": {
    "hash": "8a7c1d83d017a4d1ffaef83a08d34be2fadd9582e7b618dd4e11b33a020e4646"
   }
  }
 },
 "nbformat": 4,
 "nbformat_minor": 2
}
