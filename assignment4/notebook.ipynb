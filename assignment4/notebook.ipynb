{
 "cells": [
  {
   "cell_type": "code",
   "execution_count": null,
   "metadata": {},
   "outputs": [],
   "source": [
    "import re\n",
    "\n",
    "with open(\"wiki.txt\", \"r\") as f:\n",
    "    base_url = \"https://en.wikipedia.org\"\n",
    "    base_protocol = \"https\"\n",
    "    urls = set()\n",
    "    img_pat = re.compile(r'<a href=\"([^\"^#]+)\"', flags=re.IGNORECASE)\n",
    "    all_urls= img_pat.findall(f.read())\n",
    "    for url in all_urls:\n",
    "        if url.startswith(\"//\"):\n",
    "            urls.add(base_protocol+url)\n",
    "        elif url.startswith(\"/\"):\n",
    "            urls.add(base_url+url)\n",
    "        else:\n",
    "            urls.add(url)\n",
    "\n",
    "    print(urls)\n",
    "    "
   ]
  },
  {
   "cell_type": "code",
   "execution_count": 40,
   "metadata": {},
   "outputs": [
    {
     "data": {
      "text/plain": [
       "'https:'"
      ]
     },
     "execution_count": 40,
     "metadata": {},
     "output_type": "execute_result"
    }
   ],
   "source": [
    "base_url = \"https://en.wikipedia.org\"\n",
    "protocol = base_url.split(\"/\")[0]\n",
    "protocol"
   ]
  },
  {
   "cell_type": "code",
   "execution_count": null,
   "metadata": {},
   "outputs": [],
   "source": [
    "from requesting_urls import get_html\n",
    "get_html(url=\"https://en.wikipedia.org/wiki/Nobel_Prize\", output=\"wiki.txt\")"
   ]
  },
  {
   "cell_type": "code",
   "execution_count": 81,
   "metadata": {},
   "outputs": [
    {
     "name": "stdout",
     "output_type": "stream",
     "text": [
      "['<a href=\"#fragment-only\">', '<a id=\"some-id\" href=\"/relative/path#fragment\">', '<a href=\"//other.host/same-protocol\">', '<a href=\"https://example.com\">']\n",
      "<a href=\"#fragment-only\">\n",
      "None\n",
      "<a id=\"some-id\" href=\"/relative/path#fragment\">\n",
      "<re.Match object; span=(16, 36), match='href=\"/relative/path'>\n",
      "<a href=\"//other.host/same-protocol\">\n",
      "<re.Match object; span=(3, 35), match='href=\"//other.host/same-protocol'>\n",
      "<a href=\"https://example.com\">\n",
      "<re.Match object; span=(3, 28), match='href=\"https://example.com'>\n",
      "{'https//other.host/same-protocol', 'https://en.wikipedia.org/relative/path', 'https://example.com'}\n"
     ]
    }
   ],
   "source": [
    "from filter_urls import find_urls\n",
    "html = \"\"\"\n",
    "    <a href=\"#fragment-only\">anchor link</a>\n",
    "    <a id=\"some-id\" href=\"/relative/path#fragment\">relative link</a>\n",
    "    <a href=\"//other.host/same-protocol\">same-protocol link</a>\n",
    "    <a href=\"https://example.com\">absolute URL</a>\n",
    "    \"\"\"\n",
    "\n",
    "urls = find_urls(html, base_url=\"https://en.wikipedia.org\", output=\"out.txt\")"
   ]
  },
  {
   "cell_type": "code",
   "execution_count": 75,
   "metadata": {},
   "outputs": [
    {
     "data": {
      "text/plain": [
       "['/relative/path', '//other.host/same-protocol', 'https://example.com']"
      ]
     },
     "execution_count": 75,
     "metadata": {},
     "output_type": "execute_result"
    }
   ],
   "source": [
    "a = r\"\"\"<a id=\"some-id\" href=\"/relative/path#fragment\">relative link</a>\"\"\"\n",
    "url_pat = re.compile(r'href=\"([^\"^#]+)', flags=re.IGNORECASE)\n",
    "url_pat.findall(html)"
   ]
  },
  {
   "cell_type": "code",
   "execution_count": null,
   "metadata": {},
   "outputs": [],
   "source": []
  }
 ],
 "metadata": {
  "kernelspec": {
   "display_name": "Python 3.10.5 64-bit ('dev')",
   "language": "python",
   "name": "python3"
  },
  "language_info": {
   "codemirror_mode": {
    "name": "ipython",
    "version": 3
   },
   "file_extension": ".py",
   "mimetype": "text/x-python",
   "name": "python",
   "nbconvert_exporter": "python",
   "pygments_lexer": "ipython3",
   "version": "3.10.5"
  },
  "orig_nbformat": 4,
  "vscode": {
   "interpreter": {
    "hash": "8a7c1d83d017a4d1ffaef83a08d34be2fadd9582e7b618dd4e11b33a020e4646"
   }
  }
 },
 "nbformat": 4,
 "nbformat_minor": 2
}
